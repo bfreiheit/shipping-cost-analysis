{
 "cells": [
  {
   "cell_type": "markdown",
   "id": "d37374d1",
   "metadata": {},
   "source": [
    "### In this notebook a regression using RandomForest will be applied"
   ]
  },
  {
   "cell_type": "code",
   "execution_count": null,
   "id": "4dcd96e4",
   "metadata": {},
   "outputs": [],
   "source": [
    "import matplotlib.pyplot as plt\n",
    "import numpy as np\n",
    "import pandas as pd\n",
    "import seaborn as sns\n",
    "from sklearn.ensemble._forest import RandomForestRegressor\n",
    "from sklearn.model_selection import train_test_split\n",
    "from sklearn.preprocessing import OneHotEncoder\n",
    "from sqlalchemy import select\n",
    "from sqlalchemy.orm import sessionmaker\n",
    "\n",
    "from shipping_cost_analysis.etl.db_tools import get_engine\n",
    "from shipping_cost_analysis.models.schema import Customer, Product, Region, Transactions"
   ]
  },
  {
   "cell_type": "code",
   "execution_count": 13,
   "id": "86c98778",
   "metadata": {},
   "outputs": [],
   "source": [
    "engine = get_engine()\n",
    "Session = sessionmaker(bind=engine)\n",
    "\n",
    "with engine.connect() as conn:\n",
    "    query = (\n",
    "        select(\n",
    "            Transactions.transaction_date,\n",
    "            Transactions.stock_code,\n",
    "            Transactions.quantity,\n",
    "            Transactions.unit_price,\n",
    "            Transactions.sales,\n",
    "            Customer.order_postal,\n",
    "            Customer.order_state,\n",
    "            Product.landed_cost,\n",
    "            Product.shipping_cost_1000_r,\n",
    "            Product.weight,\n",
    "            Product.category,\n",
    "            Region.region,\n",
    "        )\n",
    "        .join(Transactions, Transactions.stock_code == Product.stock_code)\n",
    "        .join(Customer, Transactions.customer_id == Customer.customer_id)\n",
    "        .join(Region, Region.order_state == Customer.order_state)\n",
    "    )\n",
    "\n",
    "    df = pd.read_sql(query, conn)"
   ]
  },
  {
   "cell_type": "code",
   "execution_count": 14,
   "id": "34ce3d9f",
   "metadata": {},
   "outputs": [
    {
     "data": {
      "text/plain": [
       "transaction_date        datetime64[ns]\n",
       "stock_code                      object\n",
       "quantity                       float64\n",
       "unit_price                     float64\n",
       "sales                          float64\n",
       "order_postal                    object\n",
       "order_state                     object\n",
       "landed_cost                    float64\n",
       "shipping_cost_1000_r           float64\n",
       "weight                         float64\n",
       "category                        object\n",
       "region                          object\n",
       "dtype: object"
      ]
     },
     "execution_count": 14,
     "metadata": {},
     "output_type": "execute_result"
    }
   ],
   "source": [
    "df.dtypes"
   ]
  },
  {
   "cell_type": "markdown",
   "id": "10a7fbd4",
   "metadata": {},
   "source": [
    "**Preprocessing**"
   ]
  },
  {
   "cell_type": "code",
   "execution_count": 15,
   "id": "21b78689",
   "metadata": {},
   "outputs": [
    {
     "data": {
      "text/plain": [
       "['quantity',\n",
       " 'unit_price',\n",
       " 'sales',\n",
       " 'landed_cost',\n",
       " 'shipping_cost_1000_r',\n",
       " 'weight']"
      ]
     },
     "execution_count": 15,
     "metadata": {},
     "output_type": "execute_result"
    }
   ],
   "source": [
    "metric_features = df.select_dtypes(include=[np.number])\n",
    "metric_features.columns.to_list()"
   ]
  },
  {
   "cell_type": "code",
   "execution_count": 16,
   "id": "57a3a9f9",
   "metadata": {},
   "outputs": [],
   "source": [
    "# convert string features to categories for modelling\n",
    "\n",
    "str_columns = [\"category\", \"region\", \"order_state\", \"order_postal\"]\n",
    "df[str_columns] = df[str_columns].astype(\"category\")"
   ]
  },
  {
   "cell_type": "code",
   "execution_count": 17,
   "id": "46059c96",
   "metadata": {},
   "outputs": [],
   "source": [
    "df[\"days_since_first_tx\"] = (\n",
    "    df[\"transaction_date\"] - df[\"transaction_date\"].min()\n",
    ").dt.days\n",
    "df = df.drop(columns=\"transaction_date\")"
   ]
  },
  {
   "cell_type": "code",
   "execution_count": null,
   "id": "7d2e39f3",
   "metadata": {},
   "outputs": [],
   "source": [
    "df = pd.get_dummies(df, columns=[\"order_state\", \"region\", \"category\"])\n",
    "df = df.dropna()"
   ]
  },
  {
   "cell_type": "markdown",
   "id": "e892b164",
   "metadata": {},
   "source": [
    "**Split in train and test data frames**"
   ]
  },
  {
   "cell_type": "code",
   "execution_count": null,
   "id": "334726ce",
   "metadata": {},
   "outputs": [],
   "source": [
    "# X, y splitten\n",
    "X = df.drop(\"unit_price\", axis=1)\n",
    "y = df[\"unit_price\"]\n",
    "\n",
    "# Train/Test split\n",
    "X_train, X_test, y_train, y_test = train_test_split(\n",
    "    X, y, test_size=0.2, random_state=42\n",
    ")"
   ]
  }
 ],
 "metadata": {
  "kernelspec": {
   "display_name": ".venv",
   "language": "python",
   "name": "python3"
  },
  "language_info": {
   "codemirror_mode": {
    "name": "ipython",
    "version": 3
   },
   "file_extension": ".py",
   "mimetype": "text/x-python",
   "name": "python",
   "nbconvert_exporter": "python",
   "pygments_lexer": "ipython3",
   "version": "3.12.3"
  }
 },
 "nbformat": 4,
 "nbformat_minor": 5
}
