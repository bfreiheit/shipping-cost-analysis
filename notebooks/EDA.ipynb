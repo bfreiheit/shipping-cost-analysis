{
 "cells": [
  {
   "cell_type": "code",
   "execution_count": null,
   "id": "99c23214",
   "metadata": {},
   "outputs": [],
   "source": [
    "from sqlalchemy.orm import sessionmaker\n",
    "from shipping_cost_analysis.models.schema import Transactions, Customer\n",
    "from shipping_cost_analysis.db import get_engine\n",
    "\n",
    "engine = get_engine()\n",
    "Session = sessionmaker(bind=engine)\n"
   ]
  },
  {
   "cell_type": "code",
   "execution_count": null,
   "id": "a8998cb4",
   "metadata": {},
   "outputs": [],
   "source": [
    "\n",
    "with Session() as session:\n",
    "    results = (\n",
    "        session.query(Transactions)\n",
    "        .join(Transactions.customer)\n",
    "        .filter(Customer.order_state == \"CA\")\n",
    "        .all()\n",
    "    )\n",
    "\n",
    "    for tx in results:\n",
    "        print(f\"{tx.transaction_date} – {tx.customer.order_city}\")\n"
   ]
  },
  {
   "cell_type": "code",
   "execution_count": null,
   "id": "ab3d7bf8",
   "metadata": {},
   "outputs": [],
   "source": [
    "from sqlalchemy import select\n",
    "import pandas as pd\n",
    "\n",
    "with engine.connect() as conn:\n",
    "    query = select(\n",
    "        Transactions.transaction_date,\n",
    "        Transactions.invoice_no,\n",
    "        Transactions.sales,\n",
    "        Customer.order_city,\n",
    "        Customer.order_state\n",
    "    ).join(Customer, Transactions.customer_id == Customer.customer_id).where(\n",
    "        Customer.order_state == \"CA\"\n",
    "    )\n",
    "\n",
    "    df = pd.read_sql(query, conn)\n"
   ]
  },
  {
   "cell_type": "code",
   "execution_count": null,
   "id": "dea7bddc",
   "metadata": {},
   "outputs": [],
   "source": [
    "'''\n",
    "sns.boxplot(data=merged_orders, x=\"shipping_cost_1000_r\")\n",
    "plt.show()\n",
    "\n",
    "\n",
    "# import case, cast and Float from sqlalchemy\n",
    "from sqlalchemy import Float, case, cast\n",
    "\n",
    "# Build an expression to calculate female population in 2000\n",
    "female_pop2000 = func.sum(\n",
    "    case([\n",
    "        (census.columns.sex == 'F', census.columns.pop2000)\n",
    "    ], else_=0))\n",
    "\n",
    "# Cast an expression to calculate total population in 2000 to Float\n",
    "total_pop2000 = cast(func.sum(census.columns.pop2000), Float)\n",
    "\n",
    "# Build a query to calculate the percentage of women in 2000: stmt\n",
    "stmt = select([female_pop2000 / total_pop2000* 100])\n",
    "\n",
    "# Execute the query and store the scalar result: percent_female\n",
    "percent_female = connection.execute(stmt).scalar()\n",
    "\n",
    "# Print the percentage\n",
    "print(percent_female)\n",
    "\n",
    "\n",
    "\n",
    "'''"
   ]
  },
  {
   "cell_type": "code",
   "execution_count": null,
   "id": "181acbc7",
   "metadata": {},
   "outputs": [],
   "source": [
    "'''\n",
    "g = sns.FacetGrid(\n",
    "    merged_orders, \n",
    "    col=\"region\",  \n",
    "    col_wrap=4,\n",
    "    height=4,\n",
    "    sharex=True,\n",
    "    sharey=True\n",
    ")\n",
    "\n",
    "g.map_dataframe(sns.scatterplot, x=\"shipping_cost_1000_r\", y=\"unit_price\", alpha=0.5)\n",
    "g.set_titles(col_template=\"{col_name}\")\n",
    "g.set_axis_labels(\"Shipping Cost (1000 miles)\", \"Unit Price\")\n",
    "plt.subplots_adjust(top=0.9)\n",
    "plt.show()\n",
    "\n",
    "sns.scatterplot(data=merged_orders, x=\"landed_cost\", y=\"unit_price\")\n",
    "sns.scatterplot(data=merged_orders, x=\"weight\", y=\"unit_price\")\n",
    "sns.scatterplot(data=merged_orders, x=\"weight\", y=\"shipping_cost_1000_r\")\n",
    "\n",
    "\n",
    "\n",
    "\n",
    "\n",
    "\n",
    "\n",
    "\n",
    "'''"
   ]
  }
 ],
 "metadata": {
  "language_info": {
   "name": "python"
  }
 },
 "nbformat": 4,
 "nbformat_minor": 5
}
