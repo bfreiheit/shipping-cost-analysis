{
 "cells": [
  {
   "cell_type": "code",
   "execution_count": null,
   "id": "99c23214",
   "metadata": {},
   "outputs": [],
   "source": [
    "from sqlalchemy.orm import sessionmaker\n",
    "from shipping_cost_analysis.models.schema import Transactions, Customer\n",
    "from shipping_cost_analysis.db import get_engine\n",
    "\n",
    "engine = get_engine()\n",
    "Session = sessionmaker(bind=engine)\n"
   ]
  },
  {
   "cell_type": "code",
   "execution_count": null,
   "id": "a8998cb4",
   "metadata": {},
   "outputs": [],
   "source": [
    "\n",
    "with Session() as session:\n",
    "    results = (\n",
    "        session.query(Transactions)\n",
    "        .join(Transactions.customer)\n",
    "        .filter(Customer.order_state == \"CA\")\n",
    "        .all()\n",
    "    )\n",
    "\n",
    "    for tx in results:\n",
    "        print(f\"{tx.transaction_date} – {tx.customer.order_city}\")\n"
   ]
  }
 ],
 "metadata": {
  "language_info": {
   "name": "python"
  }
 },
 "nbformat": 4,
 "nbformat_minor": 5
}
