{
 "cells": [
  {
   "cell_type": "code",
   "execution_count": null,
   "id": "1e7484c5",
   "metadata": {
    "vscode": {
     "languageId": "plaintext"
    }
   },
   "outputs": [],
   "source": [
    "import pandas as pd\n",
    "\n",
    "customers = pd.read_csv(\"data/dim_customers.csv\")\n",
    "products = pd.read_csv(\"products.csv\")\n",
    "orders = pd.read_csv(\"orders.csv\")\n",
    "order_items = pd.read_csv(\"order_items.csv\")\n"
   ]
  }
 ],
 "metadata": {
  "language_info": {
   "name": "python"
  }
 },
 "nbformat": 4,
 "nbformat_minor": 5
}
