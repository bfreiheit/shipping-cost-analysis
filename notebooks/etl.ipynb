{
 "cells": [
  {
   "cell_type": "code",
   "execution_count": 35,
   "id": "1e7484c5",
   "metadata": {},
   "outputs": [],
   "source": [
    "import pandas as pd\n",
    "from dotenv import load_dotenv\n",
    "import importlib\n",
    "pd.set_option(\"display.max_columns\", None)\n",
    "\n",
    "from shipping_cost_analysis.etl import file_io, preprocessing, db_tools\n",
    "from shipping_cost_analysis.models.schema import Base\n",
    "\n",
    "load_dotenv(override=True)\n",
    "\n",
    "modules_to_reload = [file_io, preprocessing, db_tools]\n",
    "for module in modules_to_reload:\n",
    "    importlib.reload(module)"
   ]
  },
  {
   "cell_type": "code",
   "execution_count": null,
   "id": "5eac408c",
   "metadata": {},
   "outputs": [],
   "source": [
    "# import data\n",
    "\n",
    "file_names = [\"dim_customers\", \"dim_products\", \"fact_sales_modified\", \"state_region_mapping\"]\n",
    "dataframes = {}\n",
    "\n",
    "for file_name in file_names:\n",
    "    try:\n",
    "        df = file_io.read_or_write_csv(\n",
    "            file_name + \".csv\",\n",
    "            file_dir=\"data\",\n",
    "            to_read=True,\n",
    "            file_encoding=\"ISO-8859-1\",\n",
    "            file_sep=\",\"\n",
    "        )\n",
    "        dataframes[file_name] = df\n",
    "    except FileNotFoundError as e:\n",
    "        print(f\"Error loading {file_name}: {e}\")"
   ]
  },
  {
   "cell_type": "code",
   "execution_count": 31,
   "id": "c4785c5c",
   "metadata": {},
   "outputs": [
    {
     "name": "stdout",
     "output_type": "stream",
     "text": [
      "dim_customers:\n",
      "            Total  Percentage Missing\n",
      "Latitude      98                2.24\n",
      "Longitude     98                2.24\n",
      "\n",
      "fact_sales_modified:\n",
      "                   Total  Percentage Missing\n",
      "Customer ID        5434               21.29\n",
      "Invoice No         1889                7.40\n",
      "Unit Price         1292                5.06\n",
      "Quantity           1283                5.03\n",
      "Sales              1281                5.02\n",
      "Description        1245                4.88\n",
      "Stock Code         1225                4.80\n",
      "Transaction Date   1224                4.79\n",
      "\n"
     ]
    }
   ],
   "source": [
    "for file in dataframes:\n",
    "    missing_data = preprocessing.missing_data(dataframes[file])\n",
    "    if missing_data.shape[0]:\n",
    "        print(f\"{file}:\\n {missing_data}\\n\")"
   ]
  },
  {
   "cell_type": "code",
   "execution_count": 32,
   "id": "163d4731",
   "metadata": {},
   "outputs": [
    {
     "name": "stdout",
     "output_type": "stream",
     "text": [
      "dim_customers\n"
     ]
    },
    {
     "data": {
      "text/html": [
       "<div>\n",
       "<style scoped>\n",
       "    .dataframe tbody tr th:only-of-type {\n",
       "        vertical-align: middle;\n",
       "    }\n",
       "\n",
       "    .dataframe tbody tr th {\n",
       "        vertical-align: top;\n",
       "    }\n",
       "\n",
       "    .dataframe thead th {\n",
       "        text-align: right;\n",
       "    }\n",
       "</style>\n",
       "<table border=\"1\" class=\"dataframe\">\n",
       "  <thead>\n",
       "    <tr style=\"text-align: right;\">\n",
       "      <th></th>\n",
       "      <th>Customer ID</th>\n",
       "      <th>Order City</th>\n",
       "      <th>Order Postal</th>\n",
       "      <th>Order State</th>\n",
       "      <th>Latitude</th>\n",
       "      <th>Longitude</th>\n",
       "    </tr>\n",
       "  </thead>\n",
       "  <tbody>\n",
       "    <tr>\n",
       "      <th>0</th>\n",
       "      <td>18287</td>\n",
       "      <td>Rock Springs</td>\n",
       "      <td>82901-7321</td>\n",
       "      <td>WY</td>\n",
       "      <td>41.5869</td>\n",
       "      <td>-109.2048</td>\n",
       "    </tr>\n",
       "    <tr>\n",
       "      <th>1</th>\n",
       "      <td>18283</td>\n",
       "      <td>JACKSON</td>\n",
       "      <td>83001-9460</td>\n",
       "      <td>WY</td>\n",
       "      <td>43.4800</td>\n",
       "      <td>-110.7618</td>\n",
       "    </tr>\n",
       "    <tr>\n",
       "      <th>2</th>\n",
       "      <td>18282</td>\n",
       "      <td>Greybull</td>\n",
       "      <td>82426</td>\n",
       "      <td>WY</td>\n",
       "      <td>44.4892</td>\n",
       "      <td>-108.0562</td>\n",
       "    </tr>\n",
       "  </tbody>\n",
       "</table>\n",
       "</div>"
      ],
      "text/plain": [
       "   Customer ID    Order City Order Postal Order State  Latitude  Longitude\n",
       "0        18287  Rock Springs   82901-7321          WY   41.5869  -109.2048\n",
       "1        18283       JACKSON   83001-9460          WY   43.4800  -110.7618\n",
       "2        18282      Greybull        82426          WY   44.4892  -108.0562"
      ]
     },
     "metadata": {},
     "output_type": "display_data"
    },
    {
     "name": "stdout",
     "output_type": "stream",
     "text": [
      "dim_products\n"
     ]
    },
    {
     "data": {
      "text/html": [
       "<div>\n",
       "<style scoped>\n",
       "    .dataframe tbody tr th:only-of-type {\n",
       "        vertical-align: middle;\n",
       "    }\n",
       "\n",
       "    .dataframe tbody tr th {\n",
       "        vertical-align: top;\n",
       "    }\n",
       "\n",
       "    .dataframe thead th {\n",
       "        text-align: right;\n",
       "    }\n",
       "</style>\n",
       "<table border=\"1\" class=\"dataframe\">\n",
       "  <thead>\n",
       "    <tr style=\"text-align: right;\">\n",
       "      <th></th>\n",
       "      <th>Stock Code</th>\n",
       "      <th>Weight</th>\n",
       "      <th>Landed Cost</th>\n",
       "      <th>Shipping_Cost_1000_mile</th>\n",
       "      <th>Description</th>\n",
       "      <th>Category</th>\n",
       "    </tr>\n",
       "  </thead>\n",
       "  <tbody>\n",
       "    <tr>\n",
       "      <th>0</th>\n",
       "      <td>22423</td>\n",
       "      <td>40.0</td>\n",
       "      <td>35.0</td>\n",
       "      <td>20.0</td>\n",
       "      <td>Taste of the Wild High Prairie Grain-Free Dry ...</td>\n",
       "      <td>Food</td>\n",
       "    </tr>\n",
       "    <tr>\n",
       "      <th>1</th>\n",
       "      <td>85123A</td>\n",
       "      <td>2.0</td>\n",
       "      <td>6.0</td>\n",
       "      <td>5.0</td>\n",
       "      <td>Dog and Puppy Pads</td>\n",
       "      <td>Disposables</td>\n",
       "    </tr>\n",
       "    <tr>\n",
       "      <th>2</th>\n",
       "      <td>47566</td>\n",
       "      <td>6.0</td>\n",
       "      <td>18.0</td>\n",
       "      <td>12.0</td>\n",
       "      <td>Memory Foam Pet Beds for Small, Medium, and La...</td>\n",
       "      <td>Disposables</td>\n",
       "    </tr>\n",
       "  </tbody>\n",
       "</table>\n",
       "</div>"
      ],
      "text/plain": [
       "  Stock Code  Weight  Landed Cost  Shipping_Cost_1000_mile  \\\n",
       "0      22423    40.0         35.0                     20.0   \n",
       "1     85123A     2.0          6.0                      5.0   \n",
       "2      47566     6.0         18.0                     12.0   \n",
       "\n",
       "                                         Description     Category  \n",
       "0  Taste of the Wild High Prairie Grain-Free Dry ...         Food  \n",
       "1                                 Dog and Puppy Pads  Disposables  \n",
       "2  Memory Foam Pet Beds for Small, Medium, and La...  Disposables  "
      ]
     },
     "metadata": {},
     "output_type": "display_data"
    },
    {
     "name": "stdout",
     "output_type": "stream",
     "text": [
      "fact_sales_modified\n"
     ]
    },
    {
     "data": {
      "text/html": [
       "<div>\n",
       "<style scoped>\n",
       "    .dataframe tbody tr th:only-of-type {\n",
       "        vertical-align: middle;\n",
       "    }\n",
       "\n",
       "    .dataframe tbody tr th {\n",
       "        vertical-align: top;\n",
       "    }\n",
       "\n",
       "    .dataframe thead th {\n",
       "        text-align: right;\n",
       "    }\n",
       "</style>\n",
       "<table border=\"1\" class=\"dataframe\">\n",
       "  <thead>\n",
       "    <tr style=\"text-align: right;\">\n",
       "      <th></th>\n",
       "      <th>Transaction Date</th>\n",
       "      <th>Customer ID</th>\n",
       "      <th>Description</th>\n",
       "      <th>Stock Code</th>\n",
       "      <th>Invoice No</th>\n",
       "      <th>Quantity</th>\n",
       "      <th>Sales</th>\n",
       "      <th>Unit Price</th>\n",
       "    </tr>\n",
       "  </thead>\n",
       "  <tbody>\n",
       "    <tr>\n",
       "      <th>0</th>\n",
       "      <td>12/1/2020 8:26</td>\n",
       "      <td>17850.0</td>\n",
       "      <td>Dog and Puppy Pads</td>\n",
       "      <td>85123A</td>\n",
       "      <td>536365.0</td>\n",
       "      <td>1.0</td>\n",
       "      <td>15.30</td>\n",
       "      <td>15.30</td>\n",
       "    </tr>\n",
       "    <tr>\n",
       "      <th>1</th>\n",
       "      <td>12/1/2020 8:34</td>\n",
       "      <td>13047.0</td>\n",
       "      <td>Pet Odor Eliminator</td>\n",
       "      <td>84879</td>\n",
       "      <td>536367.0</td>\n",
       "      <td>6.0</td>\n",
       "      <td>60.84</td>\n",
       "      <td>10.14</td>\n",
       "    </tr>\n",
       "    <tr>\n",
       "      <th>2</th>\n",
       "      <td>12/1/2020 8:34</td>\n",
       "      <td>13047.0</td>\n",
       "      <td>Rechargeable Pet Nail Grinder</td>\n",
       "      <td>22960</td>\n",
       "      <td>536368.0</td>\n",
       "      <td>1.0</td>\n",
       "      <td>25.50</td>\n",
       "      <td>NaN</td>\n",
       "    </tr>\n",
       "  </tbody>\n",
       "</table>\n",
       "</div>"
      ],
      "text/plain": [
       "  Transaction Date  Customer ID                    Description Stock Code  \\\n",
       "0   12/1/2020 8:26      17850.0             Dog and Puppy Pads     85123A   \n",
       "1   12/1/2020 8:34      13047.0            Pet Odor Eliminator      84879   \n",
       "2   12/1/2020 8:34      13047.0  Rechargeable Pet Nail Grinder      22960   \n",
       "\n",
       "   Invoice No  Quantity  Sales  Unit Price  \n",
       "0    536365.0       1.0  15.30       15.30  \n",
       "1    536367.0       6.0  60.84       10.14  \n",
       "2    536368.0       1.0  25.50         NaN  "
      ]
     },
     "metadata": {},
     "output_type": "display_data"
    },
    {
     "name": "stdout",
     "output_type": "stream",
     "text": [
      "state_region_mapping\n"
     ]
    },
    {
     "data": {
      "text/html": [
       "<div>\n",
       "<style scoped>\n",
       "    .dataframe tbody tr th:only-of-type {\n",
       "        vertical-align: middle;\n",
       "    }\n",
       "\n",
       "    .dataframe tbody tr th {\n",
       "        vertical-align: top;\n",
       "    }\n",
       "\n",
       "    .dataframe thead th {\n",
       "        text-align: right;\n",
       "    }\n",
       "</style>\n",
       "<table border=\"1\" class=\"dataframe\">\n",
       "  <thead>\n",
       "    <tr style=\"text-align: right;\">\n",
       "      <th></th>\n",
       "      <th>ï»¿Order State</th>\n",
       "      <th>State</th>\n",
       "      <th>Region</th>\n",
       "    </tr>\n",
       "  </thead>\n",
       "  <tbody>\n",
       "    <tr>\n",
       "      <th>0</th>\n",
       "      <td>AE</td>\n",
       "      <td>AE</td>\n",
       "      <td>Other</td>\n",
       "    </tr>\n",
       "    <tr>\n",
       "      <th>1</th>\n",
       "      <td>ak</td>\n",
       "      <td>AK</td>\n",
       "      <td>Other</td>\n",
       "    </tr>\n",
       "    <tr>\n",
       "      <th>2</th>\n",
       "      <td>AK</td>\n",
       "      <td>AK</td>\n",
       "      <td>Other</td>\n",
       "    </tr>\n",
       "  </tbody>\n",
       "</table>\n",
       "</div>"
      ],
      "text/plain": [
       "  ï»¿Order State State Region\n",
       "0             AE    AE  Other\n",
       "1             ak    AK  Other\n",
       "2             AK    AK  Other"
      ]
     },
     "metadata": {},
     "output_type": "display_data"
    }
   ],
   "source": [
    "for file in dataframes:\n",
    "    print(file)  \n",
    "    display(dataframes[file].head(3))"
   ]
  },
  {
   "cell_type": "code",
   "execution_count": null,
   "id": "905e321b",
   "metadata": {},
   "outputs": [],
   "source": [
    "customer = dataframes[file_names[0]]\n",
    "product = dataframes[file_names[1]]\n",
    "transactions = dataframes[file_names[2]]\n",
    "state = dataframes[file_names[3]]"
   ]
  },
  {
   "cell_type": "code",
   "execution_count": null,
   "id": "bed14fdd",
   "metadata": {},
   "outputs": [],
   "source": [
    "#TODO: \n",
    "'''\n",
    "order_state: Upper + column name\n",
    "transaction_date: datetime convert\n",
    "data types: integer -> astype(\"Int64\")\n",
    "'''"
   ]
  },
  {
   "cell_type": "code",
   "execution_count": null,
   "id": "26c98bf6",
   "metadata": {},
   "outputs": [],
   "source": [
    "'''\n",
    "\n",
    "customers.to_sql(\"customers\", engine, if_exists=\"replace\", index=False)\n",
    "products.to_sql(\"products\", engine, if_exists=\"replace\", index=False)\n",
    "orders.to_sql(\"orders\", engine, if_exists=\"replace\", index=False)\n",
    "order_items.to_sql(\"order_items\", engine, if_exists=\"replace\", index=False)\n",
    "\n",
    "\n",
    "'''"
   ]
  }
 ],
 "metadata": {
  "kernelspec": {
   "display_name": ".venv",
   "language": "python",
   "name": "python3"
  },
  "language_info": {
   "codemirror_mode": {
    "name": "ipython",
    "version": 3
   },
   "file_extension": ".py",
   "mimetype": "text/x-python",
   "name": "python",
   "nbconvert_exporter": "python",
   "pygments_lexer": "ipython3",
   "version": "3.12.3"
  }
 },
 "nbformat": 4,
 "nbformat_minor": 5
}
